{
 "cells": [
  {
   "cell_type": "code",
   "execution_count": 136,
   "id": "dbf9fc29",
   "metadata": {},
   "outputs": [],
   "source": [
    "import torch"
   ]
  },
  {
   "cell_type": "code",
   "execution_count": 157,
   "id": "8ae983f4",
   "metadata": {},
   "outputs": [],
   "source": [
    "if torch.cuda.is_available():\n",
    "    print(\"CUDA is available!\")\n",
    "else:\n",
    "    print(\"bsdk! GPU chahiye saale ko\")"
   ]
  },
  {
   "cell_type": "code",
   "execution_count": 158,
   "id": "643b819b",
   "metadata": {},
   "outputs": [],
   "source": [
    "from IPython.display import Image\n",
    "import os\n",
    "import pandas as pd\n",
    "from io import StringIO\n",
    "import sys"
   ]
  },
  {
   "cell_type": "code",
   "execution_count": 159,
   "id": "4e1891fc",
   "metadata": {},
   "outputs": [],
   "source": [
    "sys.stdout = open('D:/GNR_Assgn/training_logs.txt', 'w')"
   ]
  },
  {
   "cell_type": "code",
   "execution_count": 161,
   "id": "89ce79f8",
   "metadata": {},
   "outputs": [],
   "source": [
    "with open('D:/GNR_Assgn/CUB_200_2011/images.txt', 'r') as f:\n",
    "  images_text = f.read()\n",
    "\n",
    "with open('D:/GNR_Assgn/CUB_200_2011/train_test_split.txt', 'r') as f:\n",
    "  train_test = f.read()\n",
    "\n",
    "with open('D:/GNR_Assgn/CUB_200_2011/image_class_labels.txt', 'r') as f:\n",
    "  labels_text = f.read()"
   ]
  },
  {
   "cell_type": "code",
   "execution_count": 162,
   "id": "833221e1",
   "metadata": {},
   "outputs": [],
   "source": [
    "data_labels=pd.read_csv(StringIO(labels_text), sep=' ', header=None, names=['Number', 'Data'])\n",
    "data_images=pd.read_csv(StringIO(images_text), sep=' ', header=None, names=['Number', 'Data'])\n",
    "data_split=pd.read_csv(StringIO(train_test), sep=' ', header=None, names=['Number', 'Data'])\n",
    "\n",
    "data_labels_column=data_labels['Data']\n",
    "data_images_column=data_images['Data']\n",
    "data_split_column=data_split['Data']\n",
    "\n",
    "df=pd.DataFrame({\n",
    "    'images':data_images_column,\n",
    "    'labels': data_labels_column-1,\n",
    "    'is_train': data_split_column\n",
    "})"
   ]
  },
  {
   "cell_type": "code",
   "execution_count": 163,
   "id": "8a942575",
   "metadata": {},
   "outputs": [
    {
     "data": {
      "text/html": [
       "<div>\n",
       "<style scoped>\n",
       "    .dataframe tbody tr th:only-of-type {\n",
       "        vertical-align: middle;\n",
       "    }\n",
       "\n",
       "    .dataframe tbody tr th {\n",
       "        vertical-align: top;\n",
       "    }\n",
       "\n",
       "    .dataframe thead th {\n",
       "        text-align: right;\n",
       "    }\n",
       "</style>\n",
       "<table border=\"1\" class=\"dataframe\">\n",
       "  <thead>\n",
       "    <tr style=\"text-align: right;\">\n",
       "      <th></th>\n",
       "      <th>images</th>\n",
       "      <th>labels</th>\n",
       "      <th>is_train</th>\n",
       "    </tr>\n",
       "  </thead>\n",
       "  <tbody>\n",
       "    <tr>\n",
       "      <th>0</th>\n",
       "      <td>001.Black_footed_Albatross/Black_Footed_Albatr...</td>\n",
       "      <td>0</td>\n",
       "      <td>0</td>\n",
       "    </tr>\n",
       "    <tr>\n",
       "      <th>1</th>\n",
       "      <td>001.Black_footed_Albatross/Black_Footed_Albatr...</td>\n",
       "      <td>0</td>\n",
       "      <td>1</td>\n",
       "    </tr>\n",
       "    <tr>\n",
       "      <th>2</th>\n",
       "      <td>001.Black_footed_Albatross/Black_Footed_Albatr...</td>\n",
       "      <td>0</td>\n",
       "      <td>0</td>\n",
       "    </tr>\n",
       "    <tr>\n",
       "      <th>3</th>\n",
       "      <td>001.Black_footed_Albatross/Black_Footed_Albatr...</td>\n",
       "      <td>0</td>\n",
       "      <td>1</td>\n",
       "    </tr>\n",
       "    <tr>\n",
       "      <th>4</th>\n",
       "      <td>001.Black_footed_Albatross/Black_Footed_Albatr...</td>\n",
       "      <td>0</td>\n",
       "      <td>1</td>\n",
       "    </tr>\n",
       "    <tr>\n",
       "      <th>...</th>\n",
       "      <td>...</td>\n",
       "      <td>...</td>\n",
       "      <td>...</td>\n",
       "    </tr>\n",
       "    <tr>\n",
       "      <th>11783</th>\n",
       "      <td>200.Common_Yellowthroat/Common_Yellowthroat_00...</td>\n",
       "      <td>199</td>\n",
       "      <td>1</td>\n",
       "    </tr>\n",
       "    <tr>\n",
       "      <th>11784</th>\n",
       "      <td>200.Common_Yellowthroat/Common_Yellowthroat_00...</td>\n",
       "      <td>199</td>\n",
       "      <td>0</td>\n",
       "    </tr>\n",
       "    <tr>\n",
       "      <th>11785</th>\n",
       "      <td>200.Common_Yellowthroat/Common_Yellowthroat_00...</td>\n",
       "      <td>199</td>\n",
       "      <td>0</td>\n",
       "    </tr>\n",
       "    <tr>\n",
       "      <th>11786</th>\n",
       "      <td>200.Common_Yellowthroat/Common_Yellowthroat_00...</td>\n",
       "      <td>199</td>\n",
       "      <td>1</td>\n",
       "    </tr>\n",
       "    <tr>\n",
       "      <th>11787</th>\n",
       "      <td>200.Common_Yellowthroat/Common_Yellowthroat_00...</td>\n",
       "      <td>199</td>\n",
       "      <td>0</td>\n",
       "    </tr>\n",
       "  </tbody>\n",
       "</table>\n",
       "<p>11788 rows × 3 columns</p>\n",
       "</div>"
      ],
      "text/plain": [
       "                                                  images  labels  is_train\n",
       "0      001.Black_footed_Albatross/Black_Footed_Albatr...       0         0\n",
       "1      001.Black_footed_Albatross/Black_Footed_Albatr...       0         1\n",
       "2      001.Black_footed_Albatross/Black_Footed_Albatr...       0         0\n",
       "3      001.Black_footed_Albatross/Black_Footed_Albatr...       0         1\n",
       "4      001.Black_footed_Albatross/Black_Footed_Albatr...       0         1\n",
       "...                                                  ...     ...       ...\n",
       "11783  200.Common_Yellowthroat/Common_Yellowthroat_00...     199         1\n",
       "11784  200.Common_Yellowthroat/Common_Yellowthroat_00...     199         0\n",
       "11785  200.Common_Yellowthroat/Common_Yellowthroat_00...     199         0\n",
       "11786  200.Common_Yellowthroat/Common_Yellowthroat_00...     199         1\n",
       "11787  200.Common_Yellowthroat/Common_Yellowthroat_00...     199         0\n",
       "\n",
       "[11788 rows x 3 columns]"
      ]
     },
     "execution_count": 163,
     "metadata": {},
     "output_type": "execute_result"
    }
   ],
   "source": [
    "df"
   ]
  },
  {
   "cell_type": "code",
   "execution_count": 164,
   "id": "4f64b520",
   "metadata": {},
   "outputs": [],
   "source": [
    "df = df.sample(frac=1).reset_index(drop=True)"
   ]
  },
  {
   "cell_type": "code",
   "execution_count": 165,
   "id": "7fb9013d",
   "metadata": {},
   "outputs": [
    {
     "data": {
      "text/html": [
       "<div>\n",
       "<style scoped>\n",
       "    .dataframe tbody tr th:only-of-type {\n",
       "        vertical-align: middle;\n",
       "    }\n",
       "\n",
       "    .dataframe tbody tr th {\n",
       "        vertical-align: top;\n",
       "    }\n",
       "\n",
       "    .dataframe thead th {\n",
       "        text-align: right;\n",
       "    }\n",
       "</style>\n",
       "<table border=\"1\" class=\"dataframe\">\n",
       "  <thead>\n",
       "    <tr style=\"text-align: right;\">\n",
       "      <th></th>\n",
       "      <th>images</th>\n",
       "      <th>labels</th>\n",
       "      <th>is_train</th>\n",
       "    </tr>\n",
       "  </thead>\n",
       "  <tbody>\n",
       "    <tr>\n",
       "      <th>0</th>\n",
       "      <td>119.Field_Sparrow/Field_Sparrow_0108_114154.jpg</td>\n",
       "      <td>118</td>\n",
       "      <td>1</td>\n",
       "    </tr>\n",
       "    <tr>\n",
       "      <th>1</th>\n",
       "      <td>144.Common_Tern/Common_Tern_0095_149960.jpg</td>\n",
       "      <td>143</td>\n",
       "      <td>1</td>\n",
       "    </tr>\n",
       "    <tr>\n",
       "      <th>2</th>\n",
       "      <td>137.Cliff_Swallow/Cliff_Swallow_0035_133097.jpg</td>\n",
       "      <td>136</td>\n",
       "      <td>0</td>\n",
       "    </tr>\n",
       "    <tr>\n",
       "      <th>3</th>\n",
       "      <td>110.Geococcyx/Geococcyx_0118_104131.jpg</td>\n",
       "      <td>109</td>\n",
       "      <td>0</td>\n",
       "    </tr>\n",
       "    <tr>\n",
       "      <th>4</th>\n",
       "      <td>128.Seaside_Sparrow/Seaside_Sparrow_0028_12076...</td>\n",
       "      <td>127</td>\n",
       "      <td>1</td>\n",
       "    </tr>\n",
       "    <tr>\n",
       "      <th>...</th>\n",
       "      <td>...</td>\n",
       "      <td>...</td>\n",
       "      <td>...</td>\n",
       "    </tr>\n",
       "    <tr>\n",
       "      <th>11783</th>\n",
       "      <td>074.Florida_Jay/Florida_Jay_0021_64698.jpg</td>\n",
       "      <td>73</td>\n",
       "      <td>1</td>\n",
       "    </tr>\n",
       "    <tr>\n",
       "      <th>11784</th>\n",
       "      <td>129.Song_Sparrow/Song_Sparrow_0044_121931.jpg</td>\n",
       "      <td>128</td>\n",
       "      <td>1</td>\n",
       "    </tr>\n",
       "    <tr>\n",
       "      <th>11785</th>\n",
       "      <td>071.Long_tailed_Jaeger/Long_Tailed_Jaeger_0011...</td>\n",
       "      <td>70</td>\n",
       "      <td>1</td>\n",
       "    </tr>\n",
       "    <tr>\n",
       "      <th>11786</th>\n",
       "      <td>048.European_Goldfinch/European_Goldfinch_0106...</td>\n",
       "      <td>47</td>\n",
       "      <td>0</td>\n",
       "    </tr>\n",
       "    <tr>\n",
       "      <th>11787</th>\n",
       "      <td>099.Ovenbird/Ovenbird_0064_93208.jpg</td>\n",
       "      <td>98</td>\n",
       "      <td>1</td>\n",
       "    </tr>\n",
       "  </tbody>\n",
       "</table>\n",
       "<p>11788 rows × 3 columns</p>\n",
       "</div>"
      ],
      "text/plain": [
       "                                                  images  labels  is_train\n",
       "0        119.Field_Sparrow/Field_Sparrow_0108_114154.jpg     118         1\n",
       "1            144.Common_Tern/Common_Tern_0095_149960.jpg     143         1\n",
       "2        137.Cliff_Swallow/Cliff_Swallow_0035_133097.jpg     136         0\n",
       "3                110.Geococcyx/Geococcyx_0118_104131.jpg     109         0\n",
       "4      128.Seaside_Sparrow/Seaside_Sparrow_0028_12076...     127         1\n",
       "...                                                  ...     ...       ...\n",
       "11783         074.Florida_Jay/Florida_Jay_0021_64698.jpg      73         1\n",
       "11784      129.Song_Sparrow/Song_Sparrow_0044_121931.jpg     128         1\n",
       "11785  071.Long_tailed_Jaeger/Long_Tailed_Jaeger_0011...      70         1\n",
       "11786  048.European_Goldfinch/European_Goldfinch_0106...      47         0\n",
       "11787               099.Ovenbird/Ovenbird_0064_93208.jpg      98         1\n",
       "\n",
       "[11788 rows x 3 columns]"
      ]
     },
     "execution_count": 165,
     "metadata": {},
     "output_type": "execute_result"
    }
   ],
   "source": [
    "df"
   ]
  },
  {
   "cell_type": "code",
   "execution_count": 166,
   "id": "d55af566",
   "metadata": {},
   "outputs": [],
   "source": [
    "dir_path='D:/GNR_Assgn/CUB_200_2011/images'"
   ]
  },
  {
   "cell_type": "code",
   "execution_count": 167,
   "id": "684c6db0",
   "metadata": {},
   "outputs": [],
   "source": [
    "df_train = df[df['is_train']==1]\n",
    "df_test = df[df['is_train']==0]"
   ]
  },
  {
   "cell_type": "code",
   "execution_count": 168,
   "id": "b0d2c856",
   "metadata": {},
   "outputs": [],
   "source": [
    "import torch\n",
    "from torchvision import transforms\n",
    "from torch.utils.data import Dataset, DataLoader\n",
    "from PIL import Image\n",
    "import os\n",
    "from torch import nn\n",
    "\n",
    "import torchvision\n",
    "import torch.optim as optim\n",
    "import torch.nn.functional as F\n",
    "from tqdm import tqdm\n",
    "device = torch.device(\"cuda\" if torch.cuda.is_available() else \"cpu\")\n"
   ]
  },
  {
   "cell_type": "code",
   "execution_count": 169,
   "id": "5bcf0c9b",
   "metadata": {},
   "outputs": [
    {
     "data": {
      "text/plain": [
       "device(type='cuda')"
      ]
     },
     "execution_count": 169,
     "metadata": {},
     "output_type": "execute_result"
    }
   ],
   "source": [
    "device"
   ]
  },
  {
   "cell_type": "code",
   "execution_count": 170,
   "id": "3d240552",
   "metadata": {},
   "outputs": [],
   "source": [
    "\n",
    "class CustomImageDataset(Dataset):\n",
    "    def __init__(self, data_list, transform=None):\n",
    "        self.data_list = data_list\n",
    "        self.transform = transform\n",
    "\n",
    "    def __len__(self):\n",
    "        return len(self.data_list)\n",
    "\n",
    "    def __getitem__(self, idx):\n",
    "        img_path, label = self.data_list[idx]\n",
    "        image = Image.open(img_path).convert('RGB')\n",
    "\n",
    "        if self.transform:\n",
    "            image = self.transform(image)\n",
    "\n",
    "        return image, label"
   ]
  },
  {
   "cell_type": "code",
   "execution_count": 171,
   "id": "5fa11de4",
   "metadata": {},
   "outputs": [],
   "source": [
    "train_data_list = []\n",
    "\n",
    "for index, row in df_train.iterrows():\n",
    "    # Assuming 'images' column contains the relative paths\n",
    "    image_path = os.path.join(dir_path, row['images'])\n",
    "    label = row['labels']\n",
    "    train_data_list.append((image_path, label))\n",
    "\n",
    "test_data_list = []\n",
    "\n",
    "for index, row in df_test.iterrows():\n",
    "    # Assuming 'images' column contains the relative paths\n",
    "    image_path = os.path.join(dir_path, row['images'])\n",
    "    label = row['labels']\n",
    "    test_data_list.append((image_path, label))\n",
    "\n",
    "# Define your transformations for training and testing\n",
    "train_transform = transforms.Compose([\n",
    "    transforms.RandomResizedCrop(224),\n",
    "    transforms.RandomHorizontalFlip(),\n",
    "    transforms.ToTensor(),\n",
    "    transforms.Normalize(mean=[0.485, 0.456, 0.406], std=[0.229, 0.224, 0.225]),\n",
    "])\n",
    "\n",
    "test_transform = transforms.Compose([\n",
    "    transforms.Resize(256),\n",
    "    transforms.CenterCrop(224),\n",
    "    transforms.ToTensor(),\n",
    "    transforms.Normalize(mean=[0.485, 0.456, 0.406], std=[0.229, 0.224, 0.225]),\n",
    "])\n",
    "\n",
    "# Create datasets using CustomImageDataset\n",
    "train_dataset = CustomImageDataset(data_list=train_data_list, transform=train_transform)\n",
    "test_dataset = CustomImageDataset(data_list=test_data_list, transform=test_transform)\n",
    "\n",
    "# Create DataLoader for training and testing\n",
    "batch_size = 64\n",
    "train_dataloader = DataLoader(train_dataset, batch_size=batch_size, shuffle=True)\n",
    "test_dataloader = DataLoader(test_dataset, batch_size=batch_size, shuffle=False)"
   ]
  },
  {
   "cell_type": "code",
   "execution_count": 172,
   "id": "731c93a2",
   "metadata": {},
   "outputs": [],
   "source": [
    "# Hyperparameters\n",
    "num_classes = 200\n",
    "learning_rate = 1e-3\n",
    "batch_size = 64\n",
    "num_epochs = 20\n",
    "\n",
    "from torchvision import models\n",
    "\n",
    "model_ft = models.resnet18(weights='IMAGENET1K_V1')\n",
    "num_ftrs = model_ft.fc.in_features\n",
    "# Here the size of each output sample is set to 2.\n",
    "\n",
    "for param in model_ft.parameters():\n",
    "    param.requires_grad = False\n",
    "model_ft.fc = nn.Linear(num_ftrs, num_classes)\n",
    "\n",
    "# model_ft.softmax = nn.Softmax(dim=1)\n",
    "\n",
    "model_ft = model_ft.to(device)"
   ]
  },
  {
   "cell_type": "code",
   "execution_count": 173,
   "id": "d8d1dcaf",
   "metadata": {},
   "outputs": [],
   "source": [
    "!pip install torchsummary"
   ]
  },
  {
   "cell_type": "code",
   "execution_count": 174,
   "id": "80b8dd41",
   "metadata": {},
   "outputs": [
    {
     "ename": "UnicodeEncodeError",
     "evalue": "'charmap' codec can't encode characters in position 260-261: character maps to <undefined>",
     "output_type": "error",
     "traceback": [
      "\u001b[1;31m---------------------------------------------------------------------------\u001b[0m",
      "\u001b[1;31mUnicodeEncodeError\u001b[0m                        Traceback (most recent call last)",
      "Cell \u001b[1;32mIn[174], line 2\u001b[0m\n\u001b[0;32m      1\u001b[0m \u001b[38;5;28;01mfrom\u001b[39;00m \u001b[38;5;21;01mtorchsummary\u001b[39;00m \u001b[38;5;28;01mimport\u001b[39;00m summary\n\u001b[1;32m----> 2\u001b[0m \u001b[43msummary\u001b[49m\u001b[43m(\u001b[49m\u001b[43mmodel_ft\u001b[49m\u001b[43m,\u001b[49m\u001b[43m \u001b[49m\u001b[43m(\u001b[49m\u001b[38;5;241;43m3\u001b[39;49m\u001b[43m,\u001b[49m\u001b[43m \u001b[49m\u001b[38;5;241;43m224\u001b[39;49m\u001b[43m,\u001b[49m\u001b[43m \u001b[49m\u001b[38;5;241;43m224\u001b[39;49m\u001b[43m)\u001b[49m\u001b[43m)\u001b[49m\n",
      "File \u001b[1;32m~\\anaconda3\\lib\\site-packages\\torchsummary\\torchsummary.py:157\u001b[0m, in \u001b[0;36msummary\u001b[1;34m(model, input_data, batch_dim, branching, col_names, col_width, depth, device, dtypes, verbose, *args, **kwargs)\u001b[0m\n\u001b[0;32m    155\u001b[0m results \u001b[38;5;241m=\u001b[39m ModelStatistics(summary_list, input_size, formatting)\n\u001b[0;32m    156\u001b[0m \u001b[38;5;28;01mif\u001b[39;00m verbose \u001b[38;5;241m>\u001b[39m Verbosity\u001b[38;5;241m.\u001b[39mQUIET\u001b[38;5;241m.\u001b[39mvalue:\n\u001b[1;32m--> 157\u001b[0m     \u001b[38;5;28;43mprint\u001b[39;49m\u001b[43m(\u001b[49m\u001b[43mresults\u001b[49m\u001b[43m)\u001b[49m\n\u001b[0;32m    158\u001b[0m \u001b[38;5;28;01mreturn\u001b[39;00m results\n",
      "File \u001b[1;32m~\\anaconda3\\lib\\encodings\\cp1252.py:19\u001b[0m, in \u001b[0;36mIncrementalEncoder.encode\u001b[1;34m(self, input, final)\u001b[0m\n\u001b[0;32m     18\u001b[0m \u001b[38;5;28;01mdef\u001b[39;00m \u001b[38;5;21mencode\u001b[39m(\u001b[38;5;28mself\u001b[39m, \u001b[38;5;28minput\u001b[39m, final\u001b[38;5;241m=\u001b[39m\u001b[38;5;28;01mFalse\u001b[39;00m):\n\u001b[1;32m---> 19\u001b[0m     \u001b[38;5;28;01mreturn\u001b[39;00m \u001b[43mcodecs\u001b[49m\u001b[38;5;241;43m.\u001b[39;49m\u001b[43mcharmap_encode\u001b[49m\u001b[43m(\u001b[49m\u001b[38;5;28;43minput\u001b[39;49m\u001b[43m,\u001b[49m\u001b[38;5;28;43mself\u001b[39;49m\u001b[38;5;241;43m.\u001b[39;49m\u001b[43merrors\u001b[49m\u001b[43m,\u001b[49m\u001b[43mencoding_table\u001b[49m\u001b[43m)\u001b[49m[\u001b[38;5;241m0\u001b[39m]\n",
      "\u001b[1;31mUnicodeEncodeError\u001b[0m: 'charmap' codec can't encode characters in position 260-261: character maps to <undefined>"
     ]
    }
   ],
   "source": [
    "from torchsummary import summary\n",
    "summary(model_ft, (3, 224, 224))"
   ]
  },
  {
   "cell_type": "code",
   "execution_count": 175,
   "id": "476181b2",
   "metadata": {},
   "outputs": [],
   "source": [
    "criterion = nn.CrossEntropyLoss()\n",
    "criterion = criterion.to(device)"
   ]
  },
  {
   "cell_type": "code",
   "execution_count": 176,
   "id": "9967b162",
   "metadata": {},
   "outputs": [
    {
     "name": "stderr",
     "output_type": "stream",
     "text": [
      "100%|██████████████████████████████████████████████████████████████████████████████████| 94/94 [00:31<00:00,  2.95it/s]\n",
      "100%|██████████████████████████████████████████████████████████████████████████████████| 94/94 [00:31<00:00,  3.00it/s]\n",
      "100%|██████████████████████████████████████████████████████████████████████████████████| 94/94 [00:31<00:00,  2.97it/s]\n",
      "100%|██████████████████████████████████████████████████████████████████████████████████| 94/94 [00:31<00:00,  3.02it/s]\n",
      "100%|██████████████████████████████████████████████████████████████████████████████████| 94/94 [00:32<00:00,  2.89it/s]\n",
      "100%|██████████████████████████████████████████████████████████████████████████████████| 94/94 [00:33<00:00,  2.78it/s]\n",
      "100%|██████████████████████████████████████████████████████████████████████████████████| 94/94 [00:31<00:00,  3.01it/s]\n",
      "100%|██████████████████████████████████████████████████████████████████████████████████| 94/94 [00:31<00:00,  3.02it/s]\n",
      "100%|██████████████████████████████████████████████████████████████████████████████████| 94/94 [00:31<00:00,  2.97it/s]\n",
      "100%|██████████████████████████████████████████████████████████████████████████████████| 94/94 [00:31<00:00,  3.00it/s]\n",
      "100%|██████████████████████████████████████████████████████████████████████████████████| 94/94 [00:31<00:00,  3.03it/s]\n",
      "100%|██████████████████████████████████████████████████████████████████████████████████| 94/94 [00:31<00:00,  3.01it/s]\n",
      "100%|██████████████████████████████████████████████████████████████████████████████████| 94/94 [00:31<00:00,  3.02it/s]\n",
      "100%|██████████████████████████████████████████████████████████████████████████████████| 94/94 [00:31<00:00,  3.00it/s]\n",
      "100%|██████████████████████████████████████████████████████████████████████████████████| 94/94 [00:31<00:00,  2.99it/s]\n",
      "100%|██████████████████████████████████████████████████████████████████████████████████| 94/94 [00:31<00:00,  3.01it/s]\n",
      "100%|██████████████████████████████████████████████████████████████████████████████████| 94/94 [00:31<00:00,  3.00it/s]\n",
      "100%|██████████████████████████████████████████████████████████████████████████████████| 94/94 [00:31<00:00,  3.02it/s]\n",
      "100%|██████████████████████████████████████████████████████████████████████████████████| 94/94 [00:31<00:00,  3.00it/s]\n",
      "100%|██████████████████████████████████████████████████████████████████████████████████| 94/94 [00:31<00:00,  2.98it/s]\n"
     ]
    }
   ],
   "source": [
    "\n",
    "# Set the model to training mode\n",
    "model_ft.train()\n",
    "# Observe that all parameters are being optimized\n",
    "optimizer_ft = optim.SGD(model_ft.parameters(), lr=0.001, momentum=0.9)\n",
    "\n",
    "# Train Network\n",
    "for epoch in range(num_epochs):\n",
    "    losses = []\n",
    "    correct_predictions = 0\n",
    "    total_predictions = 0\n",
    "    \n",
    "    for batch_idx, (data, targets) in enumerate(tqdm(train_dataloader)):\n",
    "        # Get data to cuda if possible\n",
    "        data = data.to(device=device)\n",
    "        targets = targets.to(device=device)\n",
    "        # forward\n",
    "        scores = model_ft(data)\n",
    "    \n",
    "         # Compute accuracy\n",
    "        _, predicted = torch.max(scores, 1)\n",
    "        correct_predictions += (predicted == targets).sum().item()\n",
    "        total_predictions += targets.size(0)\n",
    "        \n",
    "        loss = criterion(scores, targets)\n",
    "\n",
    "        losses.append(loss.item())\n",
    "        # backward\n",
    "        optimizer_ft.zero_grad()\n",
    "        loss.backward()\n",
    "\n",
    "        # gradient descent or adam step\n",
    "        optimizer_ft.step()\n",
    "        \n",
    "    avg_loss = sum(losses) / len(losses)\n",
    "    accuracy = correct_predictions / total_predictions\n",
    "    \n",
    "    print(f\"Cost at epoch {epoch} is {avg_loss:.5f}, Accuracy: {accuracy:.2%}\")\n"
   ]
  },
  {
   "cell_type": "code",
   "execution_count": 78,
   "id": "e5c3bc60",
   "metadata": {},
   "outputs": [],
   "source": [
    "def check_accuracy(loader, model):\n",
    "\n",
    "    num_correct = 0\n",
    "    num_samples = 0\n",
    "    model.eval()\n",
    "\n",
    "    with torch.no_grad():\n",
    "        for x, y in loader:\n",
    "            x = x.to(device=device)\n",
    "            y = y.to(device=device)\n",
    "\n",
    "            scores = model(x)\n",
    "            _, predictions = scores.max(1)\n",
    "            num_correct += (predictions == y).sum()\n",
    "            num_samples += predictions.size(0)\n",
    "\n",
    "        print(\n",
    "            f\"Got {num_correct} / {num_samples} with accuracy {float(num_correct)/float(num_samples)*100:.2f}\"\n",
    "        )\n",
    "\n",
    "    model.train()\n",
    "\n",
    "\n",
    "check_accuracy(train_dataloader, model_ft)"
   ]
  },
  {
   "cell_type": "code",
   "execution_count": 79,
   "id": "23b07c9e",
   "metadata": {},
   "outputs": [],
   "source": [
    "check_accuracy(test_dataloader, model_ft)"
   ]
  },
  {
   "cell_type": "code",
   "execution_count": 80,
   "id": "31aa0592",
   "metadata": {},
   "outputs": [],
   "source": [
    "# log_file.close()\n",
    "\n",
    "# Restore the original stdout\n",
    "sys.stdout = sys.__stdout__\n"
   ]
  },
  {
   "cell_type": "code",
   "execution_count": null,
   "id": "a97299fe",
   "metadata": {},
   "outputs": [],
   "source": []
  }
 ],
 "metadata": {
  "kernelspec": {
   "display_name": "Python 3 (ipykernel)",
   "language": "python",
   "name": "python3"
  },
  "language_info": {
   "codemirror_mode": {
    "name": "ipython",
    "version": 3
   },
   "file_extension": ".py",
   "mimetype": "text/x-python",
   "name": "python",
   "nbconvert_exporter": "python",
   "pygments_lexer": "ipython3",
   "version": "3.10.9"
  }
 },
 "nbformat": 4,
 "nbformat_minor": 5
}
